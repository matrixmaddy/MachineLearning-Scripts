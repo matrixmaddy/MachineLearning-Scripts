{
 "cells": [
  {
   "cell_type": "code",
   "execution_count": 78,
   "metadata": {},
   "outputs": [],
   "source": [
    "import pandas as pd\n",
    "from sklearn.model_selection import cross_val_score, cross_validate, RepeatedStratifiedKFold\n",
    "from sklearn.ensemble import RandomForestClassifier\n",
    "from sklearn.tree import DecisionTreeClassifier\n",
    "from imblearn.under_sampling import RandomUnderSampler\n",
    "from imblearn.over_sampling import RandomOverSampler\n",
    "from sklearn.datasets import make_classification\n",
    "#from sklearn.pipeline import Pipeline # Not using this as this pipeline does not support classes without Transform() functions. \n",
    "from imblearn.pipeline import Pipeline\n",
    "import warnings\n",
    "warnings.filterwarnings(\"ignore\")"
   ]
  },
  {
   "cell_type": "code",
   "execution_count": 5,
   "metadata": {},
   "outputs": [],
   "source": [
    "X,y = make_classification(n_samples=1000, n_features=15, n_informative=10, weights=[0.99])"
   ]
  },
  {
   "cell_type": "code",
   "execution_count": 7,
   "metadata": {},
   "outputs": [
    {
     "data": {
      "text/plain": [
       "((1000, 15), (1000,))"
      ]
     },
     "execution_count": 7,
     "metadata": {},
     "output_type": "execute_result"
    }
   ],
   "source": [
    "X.shape, y.shape"
   ]
  },
  {
   "cell_type": "code",
   "execution_count": 22,
   "metadata": {},
   "outputs": [],
   "source": [
    "dict_data={}\n",
    "for i in range(0, X.shape[1]):\n",
    "    dict_data['feat'+'_'+str(i+1)] = X[:,i]\n",
    "dict_data['Y'] = y[:]    "
   ]
  },
  {
   "cell_type": "code",
   "execution_count": 23,
   "metadata": {},
   "outputs": [],
   "source": [
    "df = pd.DataFrame(dict_data)"
   ]
  },
  {
   "cell_type": "code",
   "execution_count": 24,
   "metadata": {},
   "outputs": [
    {
     "data": {
      "text/html": [
       "<div>\n",
       "<style scoped>\n",
       "    .dataframe tbody tr th:only-of-type {\n",
       "        vertical-align: middle;\n",
       "    }\n",
       "\n",
       "    .dataframe tbody tr th {\n",
       "        vertical-align: top;\n",
       "    }\n",
       "\n",
       "    .dataframe thead th {\n",
       "        text-align: right;\n",
       "    }\n",
       "</style>\n",
       "<table border=\"1\" class=\"dataframe\">\n",
       "  <thead>\n",
       "    <tr style=\"text-align: right;\">\n",
       "      <th></th>\n",
       "      <th>feat_1</th>\n",
       "      <th>feat_2</th>\n",
       "      <th>feat_3</th>\n",
       "      <th>feat_4</th>\n",
       "      <th>feat_5</th>\n",
       "      <th>feat_6</th>\n",
       "      <th>feat_7</th>\n",
       "      <th>feat_8</th>\n",
       "      <th>feat_9</th>\n",
       "      <th>feat_10</th>\n",
       "      <th>feat_11</th>\n",
       "      <th>feat_12</th>\n",
       "      <th>feat_13</th>\n",
       "      <th>feat_14</th>\n",
       "      <th>feat_15</th>\n",
       "      <th>Y</th>\n",
       "    </tr>\n",
       "  </thead>\n",
       "  <tbody>\n",
       "    <tr>\n",
       "      <th>0</th>\n",
       "      <td>1.709973</td>\n",
       "      <td>-0.195591</td>\n",
       "      <td>1.714398</td>\n",
       "      <td>0.750192</td>\n",
       "      <td>-0.851940</td>\n",
       "      <td>0.926182</td>\n",
       "      <td>-2.684918</td>\n",
       "      <td>-1.273003</td>\n",
       "      <td>-1.051296</td>\n",
       "      <td>3.684143</td>\n",
       "      <td>-0.243603</td>\n",
       "      <td>-1.111625</td>\n",
       "      <td>-0.047019</td>\n",
       "      <td>2.901631</td>\n",
       "      <td>1.876122</td>\n",
       "      <td>0</td>\n",
       "    </tr>\n",
       "    <tr>\n",
       "      <th>1</th>\n",
       "      <td>-2.759841</td>\n",
       "      <td>-0.583854</td>\n",
       "      <td>0.387975</td>\n",
       "      <td>2.855471</td>\n",
       "      <td>-0.039044</td>\n",
       "      <td>-1.563238</td>\n",
       "      <td>-1.666938</td>\n",
       "      <td>0.431128</td>\n",
       "      <td>5.720992</td>\n",
       "      <td>0.673643</td>\n",
       "      <td>-0.252324</td>\n",
       "      <td>0.787213</td>\n",
       "      <td>-2.482214</td>\n",
       "      <td>4.755951</td>\n",
       "      <td>4.024606</td>\n",
       "      <td>0</td>\n",
       "    </tr>\n",
       "    <tr>\n",
       "      <th>2</th>\n",
       "      <td>-1.538421</td>\n",
       "      <td>-0.425489</td>\n",
       "      <td>-0.646267</td>\n",
       "      <td>0.521383</td>\n",
       "      <td>-2.390072</td>\n",
       "      <td>-0.444277</td>\n",
       "      <td>-1.109288</td>\n",
       "      <td>1.429944</td>\n",
       "      <td>2.110861</td>\n",
       "      <td>2.320231</td>\n",
       "      <td>-0.595890</td>\n",
       "      <td>2.382898</td>\n",
       "      <td>-1.467904</td>\n",
       "      <td>3.538439</td>\n",
       "      <td>0.931834</td>\n",
       "      <td>0</td>\n",
       "    </tr>\n",
       "    <tr>\n",
       "      <th>3</th>\n",
       "      <td>-1.103696</td>\n",
       "      <td>0.133364</td>\n",
       "      <td>-1.131278</td>\n",
       "      <td>-0.635004</td>\n",
       "      <td>1.281757</td>\n",
       "      <td>-0.621743</td>\n",
       "      <td>2.060690</td>\n",
       "      <td>-0.049886</td>\n",
       "      <td>-0.269309</td>\n",
       "      <td>-2.702886</td>\n",
       "      <td>0.619486</td>\n",
       "      <td>-0.584078</td>\n",
       "      <td>-1.273077</td>\n",
       "      <td>-3.366141</td>\n",
       "      <td>-2.501734</td>\n",
       "      <td>0</td>\n",
       "    </tr>\n",
       "    <tr>\n",
       "      <th>4</th>\n",
       "      <td>-2.639442</td>\n",
       "      <td>2.350113</td>\n",
       "      <td>2.528675</td>\n",
       "      <td>2.363665</td>\n",
       "      <td>-0.083600</td>\n",
       "      <td>-0.070294</td>\n",
       "      <td>-3.193496</td>\n",
       "      <td>2.169469</td>\n",
       "      <td>6.243715</td>\n",
       "      <td>-1.117417</td>\n",
       "      <td>-0.226523</td>\n",
       "      <td>2.464127</td>\n",
       "      <td>-1.232254</td>\n",
       "      <td>5.784181</td>\n",
       "      <td>2.752593</td>\n",
       "      <td>0</td>\n",
       "    </tr>\n",
       "    <tr>\n",
       "      <th>...</th>\n",
       "      <td>...</td>\n",
       "      <td>...</td>\n",
       "      <td>...</td>\n",
       "      <td>...</td>\n",
       "      <td>...</td>\n",
       "      <td>...</td>\n",
       "      <td>...</td>\n",
       "      <td>...</td>\n",
       "      <td>...</td>\n",
       "      <td>...</td>\n",
       "      <td>...</td>\n",
       "      <td>...</td>\n",
       "      <td>...</td>\n",
       "      <td>...</td>\n",
       "      <td>...</td>\n",
       "      <td>...</td>\n",
       "    </tr>\n",
       "    <tr>\n",
       "      <th>995</th>\n",
       "      <td>-1.217588</td>\n",
       "      <td>2.198200</td>\n",
       "      <td>2.983337</td>\n",
       "      <td>0.724352</td>\n",
       "      <td>1.936552</td>\n",
       "      <td>0.194821</td>\n",
       "      <td>-0.628608</td>\n",
       "      <td>1.848306</td>\n",
       "      <td>4.515912</td>\n",
       "      <td>-2.395325</td>\n",
       "      <td>-0.947246</td>\n",
       "      <td>1.994453</td>\n",
       "      <td>0.854945</td>\n",
       "      <td>2.129205</td>\n",
       "      <td>1.613043</td>\n",
       "      <td>0</td>\n",
       "    </tr>\n",
       "    <tr>\n",
       "      <th>996</th>\n",
       "      <td>-0.626084</td>\n",
       "      <td>0.365962</td>\n",
       "      <td>-1.836680</td>\n",
       "      <td>0.233187</td>\n",
       "      <td>1.288341</td>\n",
       "      <td>0.988322</td>\n",
       "      <td>-1.017203</td>\n",
       "      <td>-0.854905</td>\n",
       "      <td>-2.094329</td>\n",
       "      <td>1.491003</td>\n",
       "      <td>-0.291425</td>\n",
       "      <td>-0.082091</td>\n",
       "      <td>0.241055</td>\n",
       "      <td>2.165136</td>\n",
       "      <td>1.065779</td>\n",
       "      <td>0</td>\n",
       "    </tr>\n",
       "    <tr>\n",
       "      <th>997</th>\n",
       "      <td>-2.747581</td>\n",
       "      <td>3.459579</td>\n",
       "      <td>-2.682334</td>\n",
       "      <td>-1.569196</td>\n",
       "      <td>-0.132736</td>\n",
       "      <td>0.881176</td>\n",
       "      <td>3.104522</td>\n",
       "      <td>-2.630561</td>\n",
       "      <td>-10.654411</td>\n",
       "      <td>4.416106</td>\n",
       "      <td>-0.754269</td>\n",
       "      <td>-3.870711</td>\n",
       "      <td>1.155179</td>\n",
       "      <td>4.949322</td>\n",
       "      <td>1.099779</td>\n",
       "      <td>0</td>\n",
       "    </tr>\n",
       "    <tr>\n",
       "      <th>998</th>\n",
       "      <td>-2.086308</td>\n",
       "      <td>0.361986</td>\n",
       "      <td>-3.201621</td>\n",
       "      <td>0.193524</td>\n",
       "      <td>-0.713614</td>\n",
       "      <td>-0.738688</td>\n",
       "      <td>1.589677</td>\n",
       "      <td>-0.807938</td>\n",
       "      <td>-3.202965</td>\n",
       "      <td>-2.592910</td>\n",
       "      <td>-0.022557</td>\n",
       "      <td>-2.985357</td>\n",
       "      <td>0.991312</td>\n",
       "      <td>-0.384208</td>\n",
       "      <td>-0.294564</td>\n",
       "      <td>0</td>\n",
       "    </tr>\n",
       "    <tr>\n",
       "      <th>999</th>\n",
       "      <td>1.162877</td>\n",
       "      <td>-0.055352</td>\n",
       "      <td>-2.506628</td>\n",
       "      <td>0.547176</td>\n",
       "      <td>-0.258739</td>\n",
       "      <td>2.243887</td>\n",
       "      <td>-0.316071</td>\n",
       "      <td>-0.082064</td>\n",
       "      <td>-3.224109</td>\n",
       "      <td>-0.899085</td>\n",
       "      <td>0.155392</td>\n",
       "      <td>-1.792021</td>\n",
       "      <td>-0.378766</td>\n",
       "      <td>-1.528335</td>\n",
       "      <td>-1.973842</td>\n",
       "      <td>0</td>\n",
       "    </tr>\n",
       "  </tbody>\n",
       "</table>\n",
       "<p>1000 rows × 16 columns</p>\n",
       "</div>"
      ],
      "text/plain": [
       "       feat_1    feat_2    feat_3    feat_4    feat_5    feat_6    feat_7  \\\n",
       "0    1.709973 -0.195591  1.714398  0.750192 -0.851940  0.926182 -2.684918   \n",
       "1   -2.759841 -0.583854  0.387975  2.855471 -0.039044 -1.563238 -1.666938   \n",
       "2   -1.538421 -0.425489 -0.646267  0.521383 -2.390072 -0.444277 -1.109288   \n",
       "3   -1.103696  0.133364 -1.131278 -0.635004  1.281757 -0.621743  2.060690   \n",
       "4   -2.639442  2.350113  2.528675  2.363665 -0.083600 -0.070294 -3.193496   \n",
       "..        ...       ...       ...       ...       ...       ...       ...   \n",
       "995 -1.217588  2.198200  2.983337  0.724352  1.936552  0.194821 -0.628608   \n",
       "996 -0.626084  0.365962 -1.836680  0.233187  1.288341  0.988322 -1.017203   \n",
       "997 -2.747581  3.459579 -2.682334 -1.569196 -0.132736  0.881176  3.104522   \n",
       "998 -2.086308  0.361986 -3.201621  0.193524 -0.713614 -0.738688  1.589677   \n",
       "999  1.162877 -0.055352 -2.506628  0.547176 -0.258739  2.243887 -0.316071   \n",
       "\n",
       "       feat_8     feat_9   feat_10   feat_11   feat_12   feat_13   feat_14  \\\n",
       "0   -1.273003  -1.051296  3.684143 -0.243603 -1.111625 -0.047019  2.901631   \n",
       "1    0.431128   5.720992  0.673643 -0.252324  0.787213 -2.482214  4.755951   \n",
       "2    1.429944   2.110861  2.320231 -0.595890  2.382898 -1.467904  3.538439   \n",
       "3   -0.049886  -0.269309 -2.702886  0.619486 -0.584078 -1.273077 -3.366141   \n",
       "4    2.169469   6.243715 -1.117417 -0.226523  2.464127 -1.232254  5.784181   \n",
       "..        ...        ...       ...       ...       ...       ...       ...   \n",
       "995  1.848306   4.515912 -2.395325 -0.947246  1.994453  0.854945  2.129205   \n",
       "996 -0.854905  -2.094329  1.491003 -0.291425 -0.082091  0.241055  2.165136   \n",
       "997 -2.630561 -10.654411  4.416106 -0.754269 -3.870711  1.155179  4.949322   \n",
       "998 -0.807938  -3.202965 -2.592910 -0.022557 -2.985357  0.991312 -0.384208   \n",
       "999 -0.082064  -3.224109 -0.899085  0.155392 -1.792021 -0.378766 -1.528335   \n",
       "\n",
       "      feat_15  Y  \n",
       "0    1.876122  0  \n",
       "1    4.024606  0  \n",
       "2    0.931834  0  \n",
       "3   -2.501734  0  \n",
       "4    2.752593  0  \n",
       "..        ... ..  \n",
       "995  1.613043  0  \n",
       "996  1.065779  0  \n",
       "997  1.099779  0  \n",
       "998 -0.294564  0  \n",
       "999 -1.973842  0  \n",
       "\n",
       "[1000 rows x 16 columns]"
      ]
     },
     "execution_count": 24,
     "metadata": {},
     "output_type": "execute_result"
    }
   ],
   "source": [
    "df"
   ]
  },
  {
   "cell_type": "markdown",
   "metadata": {},
   "source": [
    "## Baselines with Decision Tree and Random Forest"
   ]
  },
  {
   "cell_type": "code",
   "execution_count": 70,
   "metadata": {},
   "outputs": [
    {
     "name": "stdout",
     "output_type": "stream",
     "text": [
      "Baseline classification :  0.9761947787485512\n",
      "Baseline classification on train and test :  1.0 0.9745665728314725\n"
     ]
    }
   ],
   "source": [
    "dt_baseline = DecisionTreeClassifier()\n",
    "cv_baseline = cross_val_score(dt_baseline, df.iloc[:, 0:15], df.iloc[:,15], cv=10, scoring = 'f1_weighted')\n",
    "cvf_baseline = cross_validate(dt_baseline, df.iloc[:, 0:15], df.iloc[:,15], cv=10, scoring='f1_weighted')\n",
    "print(\"Baseline classification : \" , cv_baseline.mean())\n",
    "print(\"Baseline classification on train and test : \", cvf_baseline['train_score'].mean(), cvf_baseline['test_score'].mean())"
   ]
  },
  {
   "cell_type": "code",
   "execution_count": 71,
   "metadata": {},
   "outputs": [
    {
     "name": "stdout",
     "output_type": "stream",
     "text": [
      "First iter tuning : 0.9782618831834243\n",
      "First iter results on train and test :  0.9948986065141593 0.9778571716434609\n"
     ]
    }
   ],
   "source": [
    "dt = DecisionTreeClassifier(criterion='entropy', min_samples_leaf=2, min_samples_split=4)\n",
    "cv_ = cross_val_score(dt, df.iloc[:, 0:15], df.iloc[:,15], cv=10, scoring='f1_weighted')\n",
    "cvf_ = cross_validate(dt, df.iloc[:, 0:15], df.iloc[:,15], cv=10, scoring='f1_weighted')\n",
    "print(\"First iter tuning :\", cv_.mean())\n",
    "print(\"First iter results on train and test : \", cvf_['train_score'].mean(), cvf_['test_score'].mean())"
   ]
  },
  {
   "cell_type": "code",
   "execution_count": 72,
   "metadata": {},
   "outputs": [
    {
     "name": "stdout",
     "output_type": "stream",
     "text": [
      "Second iter tuning : 0.9791130897391961\n",
      "Second iter results on train and test :  0.9956510683872286 0.9791130897391961\n"
     ]
    }
   ],
   "source": [
    "rf_baseline = RandomForestClassifier()\n",
    "cvrf_baseline = cross_val_score(rf_baseline, df.iloc[:, 0:15], df.iloc[:,15], cv=10, scoring='f1_weighted')\n",
    "cvrff_baseline = cross_validate(rf_baseline, df.iloc[:, 0:15], df.iloc[:,15], cv=10, scoring='f1_weighted')\n",
    "print(\"Second iter tuning :\", cvrf_baseline.mean())\n",
    "print(\"Second iter results on train and test : \", cvrff_baseline['train_score'].mean(), cvrff_baseline['test_score'].mean())"
   ]
  },
  {
   "cell_type": "code",
   "execution_count": 73,
   "metadata": {},
   "outputs": [
    {
     "name": "stdout",
     "output_type": "stream",
     "text": [
      "Second iter tuning : 0.986038803880388\n",
      "Second iter results on train and test :  0.9891112240056265 0.986038803880388\n"
     ]
    }
   ],
   "source": [
    "rf = RandomForestClassifier(n_estimators=200, min_samples_leaf=2, min_samples_split=4)\n",
    "cvrf_ = cross_val_score(rf, df.iloc[:, 0:15], df.iloc[:,15], cv=10, scoring='f1_micro')\n",
    "cvrff_ = cross_validate(rf, df.iloc[:, 0:15], df.iloc[:,15], cv=10, scoring='f1_micro')\n",
    "print(\"Second iter tuning :\", cvrf_.mean())\n",
    "print(\"Second iter results on train and test : \", cvrff_['train_score'].mean(), cvrff_['test_score'].mean())"
   ]
  },
  {
   "cell_type": "markdown",
   "metadata": {},
   "source": [
    "# Random Over and Under Sampling with Random Forest"
   ]
  },
  {
   "cell_type": "code",
   "execution_count": 86,
   "metadata": {},
   "outputs": [
    {
     "name": "stdout",
     "output_type": "stream",
     "text": [
      "Over sampling results on train and test :  1.0 0.9877189385605226\n"
     ]
    }
   ],
   "source": [
    "ros = RandomOverSampler(ratio='minority')\n",
    "pipe = Pipeline([('sampler', ros), ('clf', rf)])\n",
    "rskf_cv = RepeatedStratifiedKFold(n_splits=10, n_repeats=3, random_state=1)\n",
    "cv_ros = cross_validate(pipe, df.iloc[:, 0:15], df.iloc[:,15], cv=rskf_cv, scoring='f1_micro')\n",
    "print(\"Over sampling results on train and test : \", cv_ros['train_score'].mean(), cv_ros['test_score'].mean())"
   ]
  },
  {
   "cell_type": "code",
   "execution_count": 88,
   "metadata": {},
   "outputs": [
    {
     "name": "stdout",
     "output_type": "stream",
     "text": [
      "Over sampling results on train and test :  0.6929947618591022 0.6870719071907191\n"
     ]
    }
   ],
   "source": [
    "rus = RandomUnderSampler(ratio='majority')\n",
    "pipe = Pipeline([('sampler', rus), ('clf', rf)])\n",
    "rskf_cv = RepeatedStratifiedKFold(n_splits=10, n_repeats=3, random_state=1)\n",
    "cv_rus = cross_validate(pipe, df.iloc[:, 0:15], df.iloc[:,15], cv=rskf_cv, scoring='f1_micro')\n",
    "print(\"Over sampling results on train and test : \", cv_rus['train_score'].mean(), cv_rus['test_score'].mean())"
   ]
  },
  {
   "cell_type": "code",
   "execution_count": 89,
   "metadata": {},
   "outputs": [
    {
     "name": "stdout",
     "output_type": "stream",
     "text": [
      "Over sampling results on train and test :  0.7077314751600288 0.7094229422942292\n"
     ]
    }
   ],
   "source": [
    "rus = RandomUnderSampler(ratio='majority')\n",
    "ros = RandomOverSampler(ratio='minority')\n",
    "pipe = Pipeline([('sampler1', rus), ('sampler2', ros), ('clf', rf)])\n",
    "rskf_cv = RepeatedStratifiedKFold(n_splits=10, n_repeats=3, random_state=1)\n",
    "cv_rus_ros = cross_validate(pipe, df.iloc[:, 0:15], df.iloc[:,15], cv=rskf_cv, scoring='f1_micro')\n",
    "print(\"Over sampling results on train and test : \", cv_rus_ros['train_score'].mean(), cv_rus_ros['test_score'].mean())"
   ]
  },
  {
   "cell_type": "markdown",
   "metadata": {},
   "source": [
    "# BEST RESULT : OVER SAMPLER : 0.9877"
   ]
  },
  {
   "cell_type": "code",
   "execution_count": null,
   "metadata": {},
   "outputs": [],
   "source": []
  }
 ],
 "metadata": {
  "kernelspec": {
   "display_name": "Python 3",
   "language": "python",
   "name": "python3"
  },
  "language_info": {
   "codemirror_mode": {
    "name": "ipython",
    "version": 3
   },
   "file_extension": ".py",
   "mimetype": "text/x-python",
   "name": "python",
   "nbconvert_exporter": "python",
   "pygments_lexer": "ipython3",
   "version": "3.6.9"
  }
 },
 "nbformat": 4,
 "nbformat_minor": 2
}
